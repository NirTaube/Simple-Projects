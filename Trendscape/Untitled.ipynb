{
 "cells": [
  {
   "cell_type": "code",
   "execution_count": 5,
   "id": "cd47ea45",
   "metadata": {},
   "outputs": [],
   "source": [
    "from pytrends.request import TrendReq\n",
    "import matplotlib.pyplot as plt"
   ]
  },
  {
   "cell_type": "code",
   "execution_count": 9,
   "id": "cf6fc0bd",
   "metadata": {},
   "outputs": [
    {
     "ename": "NameError",
     "evalue": "name 'pytrends' is not defined",
     "output_type": "error",
     "traceback": [
      "\u001b[0;31m---------------------------------------------------------------------------\u001b[0m",
      "\u001b[0;31mNameError\u001b[0m                                 Traceback (most recent call last)",
      "Cell \u001b[0;32mIn[9], line 13\u001b[0m\n\u001b[1;32m     10\u001b[0m         keywords\u001b[38;5;241m.\u001b[39mappend(keyword)\n\u001b[1;32m     12\u001b[0m \u001b[38;5;66;03m# Build the payload for the Google Trends query\u001b[39;00m\n\u001b[0;32m---> 13\u001b[0m \u001b[43mpytrends\u001b[49m\u001b[38;5;241m.\u001b[39mbuild_payload(keywords, timeframe\u001b[38;5;241m=\u001b[39m\u001b[38;5;124m'\u001b[39m\u001b[38;5;124mtoday 5-y\u001b[39m\u001b[38;5;124m'\u001b[39m, geo\u001b[38;5;241m=\u001b[39m\u001b[38;5;124m'\u001b[39m\u001b[38;5;124m'\u001b[39m, gprop\u001b[38;5;241m=\u001b[39m\u001b[38;5;124m'\u001b[39m\u001b[38;5;124m'\u001b[39m)\n",
      "\u001b[0;31mNameError\u001b[0m: name 'pytrends' is not defined"
     ]
    }
   ],
   "source": [
    "def main():\n",
    "    # Set up pytrends object\n",
    "    pytrends = TrendReq(hl='en-US', tz=360, timeout=(10,25), proxies=['https://34.203.233.13:80',], retries=2, backoff_factor=0.1, requests_args={'verify':False})\n",
    "\n",
    "    # Get user input for keywords\n",
    "    num_keywords = min(25, int(input(\"Enter the number of keywords (up to 25): \")))\n",
    "    keywords = []\n",
    "    for i in range(num_keywords):\n",
    "        keyword = input(f\"Enter keyword {i+1}: \")\n",
    "        keywords.append(keyword)\n",
    "        \n",
    "# Build the payload for the Google Trends query\n",
    "pytrends.build_payload(keywords, timeframe='today 5-y', geo='', gprop='')"
   ]
  },
  {
   "cell_type": "code",
   "execution_count": null,
   "id": "58675843",
   "metadata": {},
   "outputs": [],
   "source": [
    "  # Get the interest over time data\n",
    "    interest_over_time = pytrends.interest_over_time()\n",
    "    \n",
    "    # Display the trend data\n",
    "    print(interest_over_time)"
   ]
  },
  {
   "cell_type": "code",
   "execution_count": null,
   "id": "5027ab7c",
   "metadata": {},
   "outputs": [],
   "source": [
    " # Create a plot\n",
    "    plt.figure(figsize=(10, 6))\n",
    "    interest_over_time.plot()\n",
    "    plt.title('Google Trends Over Time')\n",
    "    plt.xlabel('Date')\n",
    "    plt.ylabel('Interest')\n",
    "    plt.legend(keywords, loc='upper left')\n",
    "    plt.xticks(rotation=45)\n",
    "\n",
    "    # Add hover functionality\n",
    "    tooltip = plt.gca().get_children()[2]\n",
    "    plt.gca().annotate('', xy=(0, 0), xytext=(20, 20), textcoords='offset points', arrowprops=dict(arrowstyle='->', lw=1), bbox=dict(boxstyle='round,pad=0.5', edgecolor='black', facecolor='white'), fontsize=8)\n",
    "    tooltip.set_visible(False)\n",
    "\n",
    "    def hover(event):\n",
    "        vis = tooltip.get_visible()\n",
    "        if event.inaxes == plt.gca():\n",
    "            for cont in plt.gca().get_children():\n",
    "                if cont.contains(event)[0]:\n",
    "                    if isinstance(cont, plt.Line2D):\n",
    "                        x, y = cont.get_data()\n",
    "                        x_idx = int(event.xdata + 0.5)\n",
    "                        y_val = y[x_idx]\n",
    "                        tooltip.set_text(f\"{cont.get_label()}\\nDate: {x[x_idx]}\\nInterest: {y_val}\")\n",
    "                        tooltip.set_position((x[x_idx], y_val))\n",
    "                        tooltip.set_visible(True)\n",
    "                        plt.draw()\n",
    "                        return\n",
    "        if vis:\n",
    "            tooltip.set_visible(False)\n",
    "            plt.draw()\n",
    "\n",
    "    plt.gcf().canvas.mpl_connect(\"motion_notify_event\", hover)\n",
    "    plt.tight_layout()\n",
    "    plt.show()"
   ]
  },
  {
   "cell_type": "code",
   "execution_count": null,
   "id": "b76abe09",
   "metadata": {},
   "outputs": [],
   "source": [
    "if __name__ == \"__main__\":\n",
    "    main()"
   ]
  }
 ],
 "metadata": {
  "kernelspec": {
   "display_name": "Python 3 (ipykernel)",
   "language": "python",
   "name": "python3"
  },
  "language_info": {
   "codemirror_mode": {
    "name": "ipython",
    "version": 3
   },
   "file_extension": ".py",
   "mimetype": "text/x-python",
   "name": "python",
   "nbconvert_exporter": "python",
   "pygments_lexer": "ipython3",
   "version": "3.9.17"
  }
 },
 "nbformat": 4,
 "nbformat_minor": 5
}
