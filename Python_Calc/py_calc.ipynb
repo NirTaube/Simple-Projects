{
 "cells": [
  {
   "cell_type": "code",
   "execution_count": 1,
   "id": "33fd9a48",
   "metadata": {},
   "outputs": [
    {
     "name": "stdout",
     "output_type": "stream",
     "text": [
      "Intel MKL WARNING: Support of Intel(R) Streaming SIMD Extensions 4.2 (Intel(R) SSE4.2) enabled only processors has been deprecated. Intel oneAPI Math Kernel Library 2025.0 will require Intel(R) Advanced Vector Extensions (Intel(R) AVX) instructions.\n",
      "Intel MKL WARNING: Support of Intel(R) Streaming SIMD Extensions 4.2 (Intel(R) SSE4.2) enabled only processors has been deprecated. Intel oneAPI Math Kernel Library 2025.0 will require Intel(R) Advanced Vector Extensions (Intel(R) AVX) instructions.\n"
     ]
    }
   ],
   "source": [
    "import math\n",
    "import cmath\n",
    "import numpy as np"
   ]
  },
  {
   "cell_type": "code",
   "execution_count": 2,
   "id": "e08b6a2d",
   "metadata": {},
   "outputs": [],
   "source": [
    "def add(x, y):\n",
    "    return x + y"
   ]
  },
  {
   "cell_type": "code",
   "execution_count": 3,
   "id": "8e4692ed",
   "metadata": {},
   "outputs": [],
   "source": [
    "def subtract(x, y):\n",
    "    return x - y"
   ]
  },
  {
   "cell_type": "code",
   "execution_count": 4,
   "id": "edd40693",
   "metadata": {},
   "outputs": [],
   "source": [
    "def multiply(x, y):\n",
    "    return x * y"
   ]
  },
  {
   "cell_type": "code",
   "execution_count": 5,
   "id": "fb9a8f7a",
   "metadata": {},
   "outputs": [],
   "source": [
    "def divide(x, y):\n",
    "    if y == 0:\n",
    "        return \"Undefined (division by zero)\"\n",
    "    return x / y"
   ]
  },
  {
   "cell_type": "code",
   "execution_count": 6,
   "id": "97cb9eb8",
   "metadata": {},
   "outputs": [],
   "source": [
    "def power(x, y):\n",
    "    return x ** y"
   ]
  },
  {
   "cell_type": "code",
   "execution_count": 7,
   "id": "6bf8119e",
   "metadata": {},
   "outputs": [],
   "source": [
    "def square_root(x):\n",
    "    return cmath.sqrt(x)"
   ]
  },
  {
   "cell_type": "code",
   "execution_count": 8,
   "id": "5513ae37",
   "metadata": {},
   "outputs": [],
   "source": [
    "def log_base_10(x):\n",
    "    return cmath.log10(x)"
   ]
  },
  {
   "cell_type": "code",
   "execution_count": 9,
   "id": "429a3689",
   "metadata": {},
   "outputs": [],
   "source": [
    "def natural_log(x):\n",
    "    return cmath.log(x)"
   ]
  },
  {
   "cell_type": "code",
   "execution_count": 10,
   "id": "8fd5f636",
   "metadata": {},
   "outputs": [],
   "source": [
    "def sine(x):\n",
    "    return math.sin(x)"
   ]
  },
  {
   "cell_type": "code",
   "execution_count": 11,
   "id": "6baa4bd8",
   "metadata": {},
   "outputs": [],
   "source": [
    "def cosine(x):\n",
    "    return math.cos(x)"
   ]
  },
  {
   "cell_type": "code",
   "execution_count": 12,
   "id": "10c1668e",
   "metadata": {},
   "outputs": [],
   "source": [
    "def tangent(x):\n",
    "    return math.tan(x)"
   ]
  },
  {
   "cell_type": "code",
   "execution_count": 13,
   "id": "0d088da1",
   "metadata": {},
   "outputs": [],
   "source": [
    "def factorial(x):\n",
    "    if x < 0:\n",
    "        return \"Undefined\"\n",
    "    return math.factorial(x)"
   ]
  },
  {
   "cell_type": "code",
   "execution_count": 14,
   "id": "425ba0a7",
   "metadata": {},
   "outputs": [],
   "source": [
    "def arcsine(x):\n",
    "    return math.asin(x)"
   ]
  },
  {
   "cell_type": "code",
   "execution_count": 15,
   "id": "c0784c68",
   "metadata": {},
   "outputs": [],
   "source": [
    "def arccosine(x):\n",
    "    return math.acos(x)"
   ]
  },
  {
   "cell_type": "code",
   "execution_count": 16,
   "id": "7395ad85",
   "metadata": {},
   "outputs": [],
   "source": [
    "def arctangent(x):\n",
    "    return math.atan(x)"
   ]
  },
  {
   "cell_type": "code",
   "execution_count": 17,
   "id": "e44cf290",
   "metadata": {},
   "outputs": [],
   "source": [
    "def get_matrix():\n",
    "    rows = int(input(\"Enter number of rows for the matrix: \"))\n",
    "    cols = int(input(\"Enter number of columns for the matrix: \"))\n",
    "    matrix = []\n",
    "    for i in range(rows):\n",
    "        row = []\n",
    "        for j in range(cols):\n",
    "            row.append(float(input(f\"Enter element [{i+1},{j+1}]: \")))\n",
    "        matrix.append(row)\n",
    "    return np.array(matrix)"
   ]
  },
  {
   "cell_type": "code",
   "execution_count": 18,
   "id": "c1c8cb79",
   "metadata": {},
   "outputs": [],
   "source": [
    "def matrix_addition(A, B):\n",
    "    return np.add(A, B)"
   ]
  },
  {
   "cell_type": "code",
   "execution_count": 19,
   "id": "d77af08a",
   "metadata": {},
   "outputs": [],
   "source": [
    "def matrix_subtraction(A, B):\n",
    "    return np.subtract(A, B)"
   ]
  },
  {
   "cell_type": "code",
   "execution_count": 20,
   "id": "0088f487",
   "metadata": {},
   "outputs": [],
   "source": [
    "def matrix_multiplication(A, B):\n",
    "    return np.matmul(A, B)"
   ]
  },
  {
   "cell_type": "code",
   "execution_count": 21,
   "id": "19cd5be9",
   "metadata": {},
   "outputs": [],
   "source": [
    "def evaluate_polynomial():\n",
    "    coeffs = [float(x) for x in input(\"Enter the polynomial coefficients separated by spaces (from highest to lowest degree): \").split()]\n",
    "    x = float(input(\"Enter the value of x: \"))\n",
    "    return np.polyval(coeffs, x)"
   ]
  },
  {
   "cell_type": "code",
   "execution_count": 22,
   "id": "429cd136",
   "metadata": {},
   "outputs": [],
   "source": [
    "def decimal_to_base(num, base):\n",
    "    if base == 2:\n",
    "        return bin(num).replace(\"0b\", \"\")\n",
    "    elif base == 8:\n",
    "        return oct(num).replace(\"0o\", \"\")\n",
    "    elif base == 16:\n",
    "        return hex(num).replace(\"0x\", \"\").upper()\n",
    "    else:\n",
    "        return \"Base not supported.\""
   ]
  },
  {
   "cell_type": "code",
   "execution_count": 23,
   "id": "276aeb5b",
   "metadata": {},
   "outputs": [],
   "source": [
    "def base_to_decimal(num_str, base):\n",
    "    if base == 2:\n",
    "        return int(num_str, 2)\n",
    "    elif base == 8:\n",
    "        return int(num_str, 8)\n",
    "    elif base == 16:\n",
    "        return int(num_str, 16)\n",
    "    else:\n",
    "        return \"Base not supported.\""
   ]
  },
  {
   "cell_type": "code",
   "execution_count": 24,
   "id": "76ec6e13",
   "metadata": {},
   "outputs": [],
   "source": [
    "def main():\n",
    "    while True:\n",
    "        # Display menu\n",
    "        print(\"\\nOptions:\")\n",
    "        print(\"Enter 'add' for addition\")\n",
    "        print(\"Enter 'subtract' for subtraction\")\n",
    "        print(\"Enter 'multiply' for multiplication\")\n",
    "        print(\"Enter 'divide' for division\")\n",
    "        print(\"Enter 'power' to raise a number to a power\")\n",
    "        print(\"Enter 'sqrt' to find the square root\")\n",
    "        print(\"Enter 'log' for logarithm base 10\")\n",
    "        print(\"Enter 'ln' for natural logarithm\")\n",
    "        print(\"Enter 'sin' for sine\")\n",
    "        print(\"Enter 'cos' for cosine\")\n",
    "        print(\"Enter 'tan' for tangent\")\n",
    "        print(\"Enter 'asin' for arcsine\")\n",
    "        print(\"Enter 'acos' for arccosine\")\n",
    "        print(\"Enter 'atan' for arctangent\")\n",
    "        print(\"Enter 'factorial' for factorial\")\n",
    "        print(\"Enter 'quit' to end the program\")\n",
    "        user_input = input(\": \")\n",
    "        \n",
    "        "
   ]
  },
  {
   "cell_type": "code",
   "execution_count": null,
   "id": "411ba8c2",
   "metadata": {},
   "outputs": [],
   "source": []
  },
  {
   "cell_type": "code",
   "execution_count": 26,
   "id": "1e760efb",
   "metadata": {},
   "outputs": [
    {
     "ename": "IndentationError",
     "evalue": "unindent does not match any outer indentation level (<tokenize>, line 4)",
     "output_type": "error",
     "traceback": [
      "\u001b[0;36m  File \u001b[0;32m<tokenize>:4\u001b[0;36m\u001b[0m\n\u001b[0;31m    elif user_input == \"matrix_add\":\u001b[0m\n\u001b[0m    ^\u001b[0m\n\u001b[0;31mIndentationError\u001b[0m\u001b[0;31m:\u001b[0m unindent does not match any outer indentation level\n"
     ]
    }
   ],
   "source": [
    "if user_input == \"quit\":\n",
    "            break\n",
    "        # Matrix operations\n",
    "        elif user_input == \"matrix_add\":\n",
    "            print(\"Enter first matrix:\")\n",
    "            A = get_matrix()\n",
    "            print(\"Enter second matrix:\")\n",
    "            B = get_matrix()\n",
    "            print(matrix_addition(A, B))\n",
    "        elif user_input == \"matrix_sub\":\n",
    "            print(\"Enter first matrix:\")\n",
    "            A = get_matrix()\n",
    "            print(\"Enter second matrix:\")\n",
    "            B = get_matrix()\n",
    "            print(matrix_subtraction(A, B))\n",
    "        elif user_input == \"matrix_mult\":\n",
    "            print(\"Enter first matrix:\")\n",
    "            A = get_matrix()\n",
    "            print(\"Enter second matrix:\")\n",
    "            B = get_matrix()\n",
    "            print(matrix_multiplication(A, B))\n",
    "        \n",
    "        # Polynomial evaluation\n",
    "        elif user_input == \"polynomial\":\n",
    "            print(evaluate_polynomial())\n",
    "        \n",
    "        # Base conversions\n",
    "        elif user_input == \"to_bin\" or user_input == \"to_oct\" or user_input == \"to_hex\":\n",
    "            num = int(input(\"Enter the decimal number: \"))\n",
    "            if user_input == \"to_bin\":\n",
    "                print(decimal_to_base(num, 2))\n",
    "            elif user_input == \"to_oct\":\n",
    "                print(decimal_to_base(num, 8))\n",
    "            elif user_input == \"to_hex\":\n",
    "                print(decimal_to_base(num, 16))\n",
    "        elif user_input == \"from_bin\" or user_input == \"from_oct\" or user_input == \"from_hex\":\n",
    "            num_str = input(\"Enter the number: \")\n",
    "            if user_input == \"from_bin\":\n",
    "                print(base_to_decimal(num_str, 2))\n",
    "            elif user_input == \"from_oct\":\n",
    "                print(base_to_decimal(num_str, 8))\n",
    "            elif user_input == \"from_hex\":\n",
    "                print(base_to_decimal(num_str, 16))\n",
    "        else:\n",
    "            print(\"Invalid Input\")"
   ]
  },
  {
   "cell_type": "code",
   "execution_count": null,
   "id": "aca6a495",
   "metadata": {},
   "outputs": [],
   "source": [
    "        # For operations that need two inputs\n",
    "        if user_input in (\"add\", \"subtract\", \"multiply\", \"divide\", \"power\"):\n",
    "            x = complex(input(\"Enter first number: \"))\n",
    "            y = complex(input(\"Enter second number: \"))"
   ]
  },
  {
   "cell_type": "code",
   "execution_count": null,
   "id": "0ad7552b",
   "metadata": {},
   "outputs": [],
   "source": [
    "            if user_input == \"add\":\n",
    "                print(add(x, y))\n",
    "            elif user_input == \"subtract\":\n",
    "                print(subtract(x, y))\n",
    "            elif user_input == \"multiply\":\n",
    "                print(multiply(x, y))\n",
    "            elif user_input == \"divide\":\n",
    "                print(divide(x, y))\n",
    "            elif user_input == \"power\":\n",
    "                print(power(x, y))"
   ]
  },
  {
   "cell_type": "code",
   "execution_count": null,
   "id": "2912d193",
   "metadata": {},
   "outputs": [],
   "source": [
    "        # For operations that need one input\n",
    "        else:\n",
    "            x = complex(input(\"Enter the number: \"))"
   ]
  },
  {
   "cell_type": "code",
   "execution_count": null,
   "id": "fc2c0d93",
   "metadata": {},
   "outputs": [],
   "source": [
    "            if user_input == \"sqrt\":\n",
    "                print(square_root(x))\n",
    "            elif user_input == \"log\":\n",
    "                print(log_base_10(x))\n",
    "            elif user_input == \"ln\":\n",
    "                print(natural_log(x))\n",
    "            elif user_input == \"sin\":\n",
    "                print(sine(x.real))  # Only real part for trigonometric functions\n",
    "            elif user_input == \"cos\":\n",
    "                print(cosine(x.real))\n",
    "            elif user_input == \"tan\":\n",
    "                print(tangent(x.real))\n",
    "            elif user_input == \"asin\":\n",
    "                print(arcsine(x.real))\n",
    "            elif user_input == \"acos\":\n",
    "                print(arccosine(x.real))\n",
    "            elif user_input == \"atan\":\n",
    "                print(arctangent(x.real))\n",
    "            elif user_input == \"factorial\":\n",
    "                if x.imag == 0:  # Factorial is defined for non-negative integers\n",
    "                    print(factorial(int(x.real)))\n",
    "                else:\n",
    "                    print(\"Factorial is not defined for complex numbers.\")"
   ]
  },
  {
   "cell_type": "code",
   "execution_count": null,
   "id": "2d1c20bb",
   "metadata": {},
   "outputs": [],
   "source": [
    "if __name__ == \"__main__\":\n",
    "    main()\n"
   ]
  }
 ],
 "metadata": {
  "kernelspec": {
   "display_name": "Python 3 (ipykernel)",
   "language": "python",
   "name": "python3"
  },
  "language_info": {
   "codemirror_mode": {
    "name": "ipython",
    "version": 3
   },
   "file_extension": ".py",
   "mimetype": "text/x-python",
   "name": "python",
   "nbconvert_exporter": "python",
   "pygments_lexer": "ipython3",
   "version": "3.9.17"
  }
 },
 "nbformat": 4,
 "nbformat_minor": 5
}
